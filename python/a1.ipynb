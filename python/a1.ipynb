{
 "cells": [
  {
   "cell_type": "code",
   "execution_count": 1,
   "metadata": {},
   "outputs": [],
   "source": [
    "import mujoco\n",
    "from anytree import Node, RenderTree"
   ]
  },
  {
   "cell_type": "code",
   "execution_count": 2,
   "metadata": {},
   "outputs": [],
   "source": [
    "model = mujoco.MjModel.from_xml_path('../assets/mujoco_menagerie/unitree_a1/a1.xml')"
   ]
  },
  {
   "cell_type": "markdown",
   "metadata": {},
   "source": [
    "## Build a body tree"
   ]
  },
  {
   "cell_type": "code",
   "execution_count": 84,
   "metadata": {},
   "outputs": [],
   "source": [
    "bodies = []\n",
    "\n",
    "# Name's not present here, extracting manually\n",
    "def extract_name(names):\n",
    "    return names.decode(\"utf-8\").split('\\0')[0]\n",
    "\n",
    "for i in range(0, model.nbody):\n",
    "    bodies.append({\n",
    "        'mj_body': model.body(i), \n",
    "        'name': extract_name(model.names[model.name_bodyadr[i]:]),\n",
    "        'id': i,\n",
    "        'geom': None,\n",
    "        }\n",
    "    )\n",
    "    "
   ]
  },
  {
   "cell_type": "code",
   "execution_count": 68,
   "metadata": {},
   "outputs": [],
   "source": [
    "mj_bodies = []\n",
    "\n",
    "def fill_children(node):\n",
    "    for b in bodies:\n",
    "        if (b['mj_body'].parentid == node.data['id']) and (b['mj_body'].parentid != b['id']):\n",
    "            fill_children(Node(b['name'], data=b, parent=node))\n",
    "    return node\n",
    "\n",
    "for body in filter(lambda x: x['mj_body'].parentid == 0, bodies):\n",
    "    mj_bodies.append(fill_children(Node(body['name'], data=body)))\n"
   ]
  },
  {
   "cell_type": "markdown",
   "metadata": {},
   "source": [
    "Here's how body tree looks like"
   ]
  },
  {
   "cell_type": "code",
   "execution_count": 69,
   "metadata": {},
   "outputs": [
    {
     "name": "stdout",
     "output_type": "stream",
     "text": [
      "trunk\n",
      "├── FR_hip\n",
      "│   └── FR_thigh\n",
      "│       └── FR_calf\n",
      "├── FL_hip\n",
      "│   └── FL_thigh\n",
      "│       └── FL_calf\n",
      "├── RR_hip\n",
      "│   └── RR_thigh\n",
      "│       └── RR_calf\n",
      "└── RL_hip\n",
      "    └── RL_thigh\n",
      "        └── RL_calf\n"
     ]
    }
   ],
   "source": [
    "for pre, fill, node in RenderTree(mvj_bodies[1]):\n",
    "    print(\"%s%s\" % (pre, node.name))"
   ]
  },
  {
   "cell_type": "markdown",
   "metadata": {},
   "source": [
    "## Find render bodies"
   ]
  },
  {
   "cell_type": "code",
   "execution_count": 61,
   "metadata": {},
   "outputs": [],
   "source": [
    "geoms = []\n",
    "\n",
    "for i in range(0, model.ngeom):\n",
    "    geoms.append({\n",
    "        'mj_geom': model.geom(i),\n",
    "        'name': extract_name(model.names[model.name_geomadr[i]:]),\n",
    "        'id': i,\n",
    "        }\n",
    "    )\n"
   ]
  },
  {
   "cell_type": "markdown",
   "metadata": {},
   "source": [
    "`name_geomadr` is broken in python API, all references are 0-terminated strings, while C api is fine in that regard"
   ]
  },
  {
   "cell_type": "code",
   "execution_count": 70,
   "metadata": {},
   "outputs": [
    {
     "data": {
      "text/plain": [
       "array([280, 281, 282, 283, 284, 285, 286, 287, 288, 289, 290, 291, 292,\n",
       "       293, 294, 295, 296, 297, 298, 299, 300, 301, 302, 303, 304, 305,\n",
       "       306, 307, 308, 309, 310, 311, 312, 313, 314, 315, 316, 317, 318,\n",
       "       319, 320, 321, 322, 323, 324, 325, 326, 327, 328, 329])"
      ]
     },
     "execution_count": 70,
     "metadata": {},
     "output_type": "execute_result"
    }
   ],
   "source": [
    "model.name_geomadr"
   ]
  },
  {
   "cell_type": "markdown",
   "metadata": {},
   "source": [
    "So render bodies are found by iterating over all bodies and checking if they group id in 0, 1, 2. Is there a better way?"
   ]
  },
  {
   "cell_type": "code",
   "execution_count": 76,
   "metadata": {},
   "outputs": [],
   "source": [
    "def fill_geoms(node):\n",
    "    filtered_geoms = list(filter(lambda x: x['mj_geom'].bodyid == node.data['id'] and x['mj_geom'].group[0] in (0, 1, 2), geoms))\n",
    "    geom = sorted(filtered_geoms, key=lambda x: x['mj_geom'].group, reverse=True)[0]\n",
    "    node.data['geom'] = geom\n",
    "    for child in node.children:\n",
    "        fill_geoms(child)\n",
    "\n",
    "fill_geoms(mj_bodies[1])"
   ]
  },
  {
   "cell_type": "markdown",
   "metadata": {},
   "source": [
    "## Let's render"
   ]
  },
  {
   "cell_type": "code",
   "execution_count": 149,
   "metadata": {},
   "outputs": [],
   "source": [
    "from vedo import *\n",
    "import numpy as np\n",
    "import quaternion"
   ]
  },
  {
   "cell_type": "code",
   "execution_count": 160,
   "metadata": {},
   "outputs": [
    {
     "data": {
      "image/png": "[encoded data removed]",
      "text/plain": [
       "<PIL.Image.Image image mode=RGB size=800x600>"
      ]
     },
     "metadata": {},
     "output_type": "display_data"
    }
   ],
   "source": [
    "MODEL_DIR = \"../assets/mujoco_menagerie/unitree_a1/assets/\"\n",
    "\n",
    "p1 = Point([1, 0, 1], c=\"white\")\n",
    "l1 = Light(p1, c=\"white\")\n",
    "\n",
    "\n",
    "def render_body(body):\n",
    "    geom_path = MODEL_DIR + body.data['name'] + '.obj'\n",
    "    mesh = Mesh(geom_path)\n",
    "    mesh.c(\"white\").lighting(\"glossy\")\n",
    "\n",
    "    mj_geom = body.data['geom']['mj_geom']\n",
    "    mj_body = body.data['mj_body']\n",
    "\n",
    "    # print(mj_geom, mj_body)\n",
    "\n",
    "    mesh.pos(np.array(mj_geom.pos) + np.array(mj_body.pos))\n",
    "    \n",
    "    body_quat = np.quaternion(mj_body.quat[0], mj_body.quat[1], mj_body.quat[2], mj_body.quat[3])\n",
    "    geom_quat = np.quaternion(mj_geom.quat[0], mj_geom.quat[1], mj_geom.quat[2], mj_geom.quat[3])\n",
    "\n",
    "    quat = body_quat * geom_quat\n",
    "    euler = quaternion.as_euler_angles(quat)\n",
    "\n",
    "    mesh.rotate_x(euler[0])\n",
    "    mesh.rotate_y(euler[1])\n",
    "    mesh.rotate_z(euler[2])\n",
    "    \n",
    "\n",
    "\n",
    "    show(mesh, l1, camera={'pos':(0.5,0.5,1.4)}, axes=True)\n",
    "\n",
    "\n",
    "\n",
    "render_body(mj_bodies[1])"
   ]
  },
  {
   "cell_type": "markdown",
   "metadata": {},
   "source": []
  }
 ],
 "metadata": {
  "kernelspec": {
   "display_name": "Python 3.10.6 ('torch')",
   "language": "python",
   "name": "python3"
  },
  "language_info": {
   "codemirror_mode": {
    "name": "ipython",
    "version": 3
   },
   "file_extension": ".py",
   "mimetype": "text/x-python",
   "name": "python",
   "nbconvert_exporter": "python",
   "pygments_lexer": "ipython3",
   "version": "3.10.8"
  },
  "orig_nbformat": 4,
  "vscode": {
   "interpreter": {
    "hash": "82ea6adb180b12ed72836e614d5d57295654ca2a9780d621124b81b6a9baa809"
   }
  }
 },
 "nbformat": 4,
 "nbformat_minor": 2
}
