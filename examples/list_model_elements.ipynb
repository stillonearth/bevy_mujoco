{
 "cells": [
  {
   "cell_type": "code",
   "execution_count": 2,
   "metadata": {},
   "outputs": [],
   "source": [
    "import mujoco"
   ]
  },
  {
   "cell_type": "code",
   "execution_count": 3,
   "metadata": {},
   "outputs": [],
   "source": [
    "model = mujoco.MjModel.from_xml_path(\"../assets/mjcf/simple.xml\")"
   ]
  },
  {
   "cell_type": "code",
   "execution_count": 4,
   "metadata": {},
   "outputs": [
    {
     "name": "stdout",
     "output_type": "stream",
     "text": [
      "ngeom:  2\n"
     ]
    }
   ],
   "source": [
    "print(\"ngeom: \", model.ngeom)\n",
    "\n",
    "data = mujoco.MjData(model)\n"
   ]
  },
  {
   "cell_type": "code",
   "execution_count": 5,
   "metadata": {},
   "outputs": [
    {
     "data": {
      "text/plain": [
       "2"
      ]
     },
     "execution_count": 5,
     "metadata": {},
     "output_type": "execute_result"
    }
   ],
   "source": [
    "model.nbody"
   ]
  },
  {
   "cell_type": "code",
   "execution_count": 6,
   "metadata": {},
   "outputs": [
    {
     "data": {
      "text/plain": [
       "<_MjModelBodyViews\n",
       "  dofadr: array([-1])\n",
       "  dofnum: array([0])\n",
       "  geomadr: array([0])\n",
       "  geomnum: array([1])\n",
       "  inertia: array([0., 0., 0.])\n",
       "  invweight0: array([0., 0.])\n",
       "  ipos: array([0., 0., 0.])\n",
       "  iquat: array([1., 0., 0., 0.])\n",
       "  jntadr: array([-1])\n",
       "  jntnum: array([0])\n",
       "  mass: array([0.])\n",
       "  mocapid: array([-1])\n",
       "  parentid: array([0])\n",
       "  pos: array([0., 0., 0.])\n",
       "  quat: array([1., 0., 0., 0.])\n",
       "  rootid: array([0])\n",
       "  sameframe: array([1], dtype=uint8)\n",
       "  simple: array([1], dtype=uint8)\n",
       "  subtreemass: array([48.])\n",
       "  user: array([], dtype=float64)\n",
       "  weldid: array([0])\n",
       ">"
      ]
     },
     "execution_count": 6,
     "metadata": {},
     "output_type": "execute_result"
    }
   ],
   "source": [
    "model.body('world')"
   ]
  },
  {
   "cell_type": "code",
   "execution_count": 23,
   "metadata": {},
   "outputs": [
    {
     "data": {
      "text/plain": [
       "<_MjDataBodyViews\n",
       "  cacc: array([0., 0., 0., 0., 0., 0.])\n",
       "  cfrc_ext: array([0., 0., 0., 0., 0., 0.])\n",
       "  cfrc_int: array([0., 0., 0., 0., 0., 0.])\n",
       "  cinert: array([0., 0., 0., 0., 0., 0., 0., 0., 0., 0.])\n",
       "  crb: array([0., 0., 0., 0., 0., 0., 0., 0., 0., 0.])\n",
       "  cvel: array([0., 0., 0., 0., 0., 0.])\n",
       "  subtree_angmom: array([0., 0., 0.])\n",
       "  subtree_com: array([0., 0., 0.])\n",
       "  subtree_linvel: array([0., 0., 0.])\n",
       "  xfrc_applied: array([0., 0., 0., 0., 0., 0.])\n",
       "  ximat: array([0., 0., 0., 0., 0., 0., 0., 0., 0.])\n",
       "  xipos: array([0., 0., 0.])\n",
       "  xmat: array([0., 0., 0., 0., 0., 0., 0., 0., 0.])\n",
       "  xpos: array([0., 0., 0.])\n",
       "  xquat: array([0., 0., 0., 0.])\n",
       ">"
      ]
     },
     "execution_count": 23,
     "metadata": {},
     "output_type": "execute_result"
    }
   ],
   "source": [
    "data.body('world')"
   ]
  },
  {
   "cell_type": "code",
   "execution_count": null,
   "metadata": {},
   "outputs": [],
   "source": []
  }
 ],
 "metadata": {
  "kernelspec": {
   "display_name": "Python 3.10.6 ('torch')",
   "language": "python",
   "name": "python3"
  },
  "language_info": {
   "codemirror_mode": {
    "name": "ipython",
    "version": 3
   },
   "file_extension": ".py",
   "mimetype": "text/x-python",
   "name": "python",
   "nbconvert_exporter": "python",
   "pygments_lexer": "ipython3",
   "version": "3.10.6"
  },
  "orig_nbformat": 4,
  "vscode": {
   "interpreter": {
    "hash": "82ea6adb180b12ed72836e614d5d57295654ca2a9780d621124b81b6a9baa809"
   }
  }
 },
 "nbformat": 4,
 "nbformat_minor": 2
}
